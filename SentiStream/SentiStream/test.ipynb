{
 "cells": [
  {
   "cell_type": "code",
   "execution_count": null,
   "metadata": {
    "collapsed": true,
    "is_executing": true
   },
   "outputs": [],
   "source": [
    " self.pos_ref = {'love', 'best', 'beautiful', 'great', 'cool', 'awesome', 'wonderful',\n",
    "                            'brilliant', 'excellent', 'fantastic', 'super', 'fun', 'masterpiece',\n",
    "                            'rejoice', 'admire', 'amuse', 'bliss', 'yumm', 'glamour'}\n",
    "            self.neg_ref = {'bad', 'worst', 'stupid', 'disappointing', 'terrible', 'rubbish',\n",
    "                            'boring', 'awful', 'unwatchable', 'awkward', 'bullshi', 'fraud',"
   ]
  },
  {
   "cell_type": "code",
   "execution_count": null,
   "outputs": [],
   "source": [],
   "metadata": {
    "collapsed": false
   }
  }
 ],
 "metadata": {
  "kernelspec": {
   "display_name": "Python 3",
   "language": "python",
   "name": "python3"
  },
  "language_info": {
   "codemirror_mode": {
    "name": "ipython",
    "version": 2
   },
   "file_extension": ".py",
   "mimetype": "text/x-python",
   "name": "python",
   "nbconvert_exporter": "python",
   "pygments_lexer": "ipython2",
   "version": "2.7.6"
  }
 },
 "nbformat": 4,
 "nbformat_minor": 0
}
