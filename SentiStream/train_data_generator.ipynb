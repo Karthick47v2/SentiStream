{
 "cells": [
  {
   "cell_type": "code",
   "execution_count": 15,
   "metadata": {},
   "outputs": [],
   "source": [
    "import pandas as pd\n",
    "import os"
   ]
  },
  {
   "cell_type": "code",
   "execution_count": 8,
   "metadata": {},
   "outputs": [],
   "source": [
    "yelp_df = pd.read_csv('train.csv', names=['label', 'review'])\n",
    "imdb_df = pd.read_csv('imdb.csv')\n",
    "sst_df = pd.concat([pd.read_csv('SST-2/train.tsv', sep='\\t'),\n",
    "                   pd.read_csv('SST-2/dev.tsv', sep='\\t')])\n",
    "\n",
    "imdb_df.columns = ['review', 'label']\n",
    "sst_df.columns = ['review', 'label']"
   ]
  },
  {
   "cell_type": "code",
   "execution_count": 9,
   "metadata": {},
   "outputs": [],
   "source": [
    "# yelp\n",
    "yelp_df.drop_duplicates(inplace=True)\n",
    "yelp_df.reset_index(inplace=True, drop=True)\n",
    "yelp_df.label -= 1\n",
    "# take only 80000 data randomly\n",
    "yelp_df = yelp_df.sample(n=80000, random_state=42)\n",
    "\n",
    "# imdb\n",
    "imdb_df.drop_duplicates(inplace=True)\n",
    "imdb_df.reset_index(inplace=True, drop=True)\n",
    "imdb_df.label.replace({'positive': 1, 'negative': 0}, inplace=True)\n",
    "label = imdb_df.pop('label')\n",
    "imdb_df.insert(0, 'label', label)\n",
    "\n",
    "# sst\n",
    "sst_df.drop_duplicates(inplace=True)\n",
    "sst_df.reset_index(inplace=True, drop=True)\n",
    "label = sst_df.pop('label')\n",
    "sst_df.insert(0, 'label', label)"
   ]
  },
  {
   "cell_type": "code",
   "execution_count": 10,
   "metadata": {},
   "outputs": [
    {
     "data": {
      "text/plain": [
       "(80000, 49582, 67855)"
      ]
     },
     "execution_count": 10,
     "metadata": {},
     "output_type": "execute_result"
    }
   ],
   "source": [
    "len(yelp_df), len(imdb_df), len(sst_df)"
   ]
  },
  {
   "cell_type": "code",
   "execution_count": 11,
   "metadata": {},
   "outputs": [],
   "source": [
    "df = pd.concat([yelp_df, imdb_df, sst_df])"
   ]
  },
  {
   "cell_type": "code",
   "execution_count": 12,
   "metadata": {},
   "outputs": [
    {
     "data": {
      "text/html": [
       "<div>\n",
       "<style scoped>\n",
       "    .dataframe tbody tr th:only-of-type {\n",
       "        vertical-align: middle;\n",
       "    }\n",
       "\n",
       "    .dataframe tbody tr th {\n",
       "        vertical-align: top;\n",
       "    }\n",
       "\n",
       "    .dataframe thead th {\n",
       "        text-align: right;\n",
       "    }\n",
       "</style>\n",
       "<table border=\"1\" class=\"dataframe\">\n",
       "  <thead>\n",
       "    <tr style=\"text-align: right;\">\n",
       "      <th></th>\n",
       "      <th>label</th>\n",
       "      <th>review</th>\n",
       "    </tr>\n",
       "  </thead>\n",
       "  <tbody>\n",
       "    <tr>\n",
       "      <th>34566</th>\n",
       "      <td>1</td>\n",
       "      <td>This place is one of my favorite comic shops. ...</td>\n",
       "    </tr>\n",
       "    <tr>\n",
       "      <th>223092</th>\n",
       "      <td>0</td>\n",
       "      <td>The wait time for an appointment is ridiculous...</td>\n",
       "    </tr>\n",
       "    <tr>\n",
       "      <th>110270</th>\n",
       "      <td>0</td>\n",
       "      <td>I did not like this hotel at all. It's very ol...</td>\n",
       "    </tr>\n",
       "    <tr>\n",
       "      <th>365013</th>\n",
       "      <td>1</td>\n",
       "      <td>Mill Avenue has a serious issue with parking. ...</td>\n",
       "    </tr>\n",
       "    <tr>\n",
       "      <th>311625</th>\n",
       "      <td>1</td>\n",
       "      <td>Favorite sushi place in NV!  Price is reasonab...</td>\n",
       "    </tr>\n",
       "    <tr>\n",
       "      <th>...</th>\n",
       "      <td>...</td>\n",
       "      <td>...</td>\n",
       "    </tr>\n",
       "    <tr>\n",
       "      <th>67850</th>\n",
       "      <td>0</td>\n",
       "      <td>has all the depth of a wading pool .</td>\n",
       "    </tr>\n",
       "    <tr>\n",
       "      <th>67851</th>\n",
       "      <td>1</td>\n",
       "      <td>a movie with a real anarchic flair .</td>\n",
       "    </tr>\n",
       "    <tr>\n",
       "      <th>67852</th>\n",
       "      <td>0</td>\n",
       "      <td>a subject like this should inspire reaction in...</td>\n",
       "    </tr>\n",
       "    <tr>\n",
       "      <th>67853</th>\n",
       "      <td>0</td>\n",
       "      <td>... is an arthritic attempt at directing by ca...</td>\n",
       "    </tr>\n",
       "    <tr>\n",
       "      <th>67854</th>\n",
       "      <td>1</td>\n",
       "      <td>looking aristocratic , luminous yet careworn i...</td>\n",
       "    </tr>\n",
       "  </tbody>\n",
       "</table>\n",
       "<p>197437 rows × 2 columns</p>\n",
       "</div>"
      ],
      "text/plain": [
       "        label                                             review\n",
       "34566       1  This place is one of my favorite comic shops. ...\n",
       "223092      0  The wait time for an appointment is ridiculous...\n",
       "110270      0  I did not like this hotel at all. It's very ol...\n",
       "365013      1  Mill Avenue has a serious issue with parking. ...\n",
       "311625      1  Favorite sushi place in NV!  Price is reasonab...\n",
       "...       ...                                                ...\n",
       "67850       0              has all the depth of a wading pool . \n",
       "67851       1              a movie with a real anarchic flair . \n",
       "67852       0  a subject like this should inspire reaction in...\n",
       "67853       0  ... is an arthritic attempt at directing by ca...\n",
       "67854       1  looking aristocratic , luminous yet careworn i...\n",
       "\n",
       "[197437 rows x 2 columns]"
      ]
     },
     "execution_count": 12,
     "metadata": {},
     "output_type": "execute_result"
    }
   ],
   "source": [
    "df"
   ]
  },
  {
   "cell_type": "code",
   "execution_count": 16,
   "metadata": {},
   "outputs": [],
   "source": [
    "def generate_df(df, dataset):\n",
    "    p_1 = int(len(df) * 0.01)\n",
    "    p_0_1 = p_1 // 10\n",
    "    p_0_5 = p_0_1 * 5\n",
    "\n",
    "    if not os.path.exists('data'):\n",
    "        os.makedirs('data')\n",
    "\n",
    "    # 1%\n",
    "    df.iloc[:p_1, :].to_csv(f'data/{dataset}_train_1_percent.csv',\n",
    "                            header=False, index=False)\n",
    "    df.iloc[p_1:, :].to_csv(f'data/{dataset}_1_percent.csv', header=False, index=False)\n",
    "\n",
    "    # 0.5%\n",
    "    df.iloc[:p_0_5, :].to_csv(\n",
    "        f'data/{dataset}_train_0_5_percent.csv', header=False, index=False)\n",
    "    df.iloc[p_0_5:, :].to_csv(f'data/{dataset}_0_5_percent.csv',\n",
    "                            header=False, index=False)\n",
    "\n",
    "    # 0.1%\n",
    "    df.iloc[:p_0_1, :].to_csv(\n",
    "        f'data/{dataset}_train_0_1_percent.csv', header=False, index=False)\n",
    "    df.iloc[p_0_1:, :].to_csv(f'data/{dataset}_0_1_percent.csv',\n",
    "                            header=False, index=False)\n",
    "\n"
   ]
  },
  {
   "cell_type": "code",
   "execution_count": 17,
   "metadata": {},
   "outputs": [],
   "source": [
    "generate_df(df, 'data')\n",
    "generate_df(yelp_df, 'yelp')\n",
    "generate_df(imdb_df, 'imdb')\n",
    "generate_df(sst_df, 'sst')"
   ]
  }
 ],
 "metadata": {
  "kernelspec": {
   "display_name": "Python 3",
   "language": "python",
   "name": "python3"
  },
  "language_info": {
   "codemirror_mode": {
    "name": "ipython",
    "version": 3
   },
   "file_extension": ".py",
   "mimetype": "text/x-python",
   "name": "python",
   "nbconvert_exporter": "python",
   "pygments_lexer": "ipython3",
   "version": "3.10.6"
  },
  "orig_nbformat": 4
 },
 "nbformat": 4,
 "nbformat_minor": 2
}
