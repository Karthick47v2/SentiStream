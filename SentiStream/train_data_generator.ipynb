{
 "cells": [
  {
   "cell_type": "code",
   "execution_count": 2,
   "metadata": {},
   "outputs": [],
   "source": [
    "import pandas as pd"
   ]
  },
  {
   "cell_type": "code",
   "execution_count": 3,
   "metadata": {},
   "outputs": [],
   "source": [
    "yelp_df = pd.read_csv('train.csv', names=['label', 'review'])\n",
    "imdb_df = pd.read_csv('imdb.csv')\n",
    "sst_df = pd.concat([pd.read_csv('SST-2/train.tsv', sep='\\t'),  pd.read_csv('SST-2/dev.tsv', sep='\\t')])\n",
    "\n",
    "imdb_df.columns = ['review', 'label']\n",
    "sst_df.columns = ['review', 'label']"
   ]
  },
  {
   "cell_type": "code",
   "execution_count": 3,
   "metadata": {},
   "outputs": [],
   "source": [
    "# yelp \n",
    "yelp_df.drop_duplicates(inplace=True)\n",
    "yelp_df.reset_index(inplace=True, drop=True)\n",
    "yelp_df.label -= 1\n",
    "\n",
    "# imdb\n",
    "imdb_df.drop_duplicates(inplace=True)\n",
    "imdb_df.reset_index(inplace=True, drop=True)\n",
    "imdb_df.label.replace({'positive': 1, 'negative': 0}, inplace=True)\n",
    "label = imdb_df.pop('label')\n",
    "imdb_df.insert(0, 'label', label)\n",
    "\n",
    "# sst\n",
    "sst_df.drop_duplicates(inplace=True)\n",
    "sst_df.reset_index(inplace=True, drop=True)\n",
    "label = sst_df.pop('label')\n",
    "sst_df.insert(0, 'label', label)"
   ]
  },
  {
   "cell_type": "code",
   "execution_count": 6,
   "metadata": {},
   "outputs": [
    {
     "data": {
      "text/plain": [
       "(560000, 50000, 68221)"
      ]
     },
     "execution_count": 6,
     "metadata": {},
     "output_type": "execute_result"
    }
   ],
   "source": [
    "len(yelp_df), len(imdb_df), len(sst_df)"
   ]
  },
  {
   "cell_type": "code",
   "execution_count": 4,
   "metadata": {},
   "outputs": [],
   "source": [
    "df = pd.concat([yelp_df, imdb_df, sst_df])"
   ]
  },
  {
   "cell_type": "code",
   "execution_count": 5,
   "metadata": {},
   "outputs": [
    {
     "data": {
      "text/html": [
       "<div>\n",
       "<style scoped>\n",
       "    .dataframe tbody tr th:only-of-type {\n",
       "        vertical-align: middle;\n",
       "    }\n",
       "\n",
       "    .dataframe tbody tr th {\n",
       "        vertical-align: top;\n",
       "    }\n",
       "\n",
       "    .dataframe thead th {\n",
       "        text-align: right;\n",
       "    }\n",
       "</style>\n",
       "<table border=\"1\" class=\"dataframe\">\n",
       "  <thead>\n",
       "    <tr style=\"text-align: right;\">\n",
       "      <th></th>\n",
       "      <th>label</th>\n",
       "      <th>review</th>\n",
       "    </tr>\n",
       "  </thead>\n",
       "  <tbody>\n",
       "    <tr>\n",
       "      <th>0</th>\n",
       "      <td>0</td>\n",
       "      <td>Unfortunately, the frustration of being Dr. Go...</td>\n",
       "    </tr>\n",
       "    <tr>\n",
       "      <th>1</th>\n",
       "      <td>1</td>\n",
       "      <td>Been going to Dr. Goldberg for over 10 years. ...</td>\n",
       "    </tr>\n",
       "    <tr>\n",
       "      <th>2</th>\n",
       "      <td>0</td>\n",
       "      <td>I don't know what Dr. Goldberg was like before...</td>\n",
       "    </tr>\n",
       "    <tr>\n",
       "      <th>3</th>\n",
       "      <td>0</td>\n",
       "      <td>I'm writing this review to give you a heads up...</td>\n",
       "    </tr>\n",
       "    <tr>\n",
       "      <th>4</th>\n",
       "      <td>1</td>\n",
       "      <td>All the food is great here. But the best thing...</td>\n",
       "    </tr>\n",
       "    <tr>\n",
       "      <th>...</th>\n",
       "      <td>...</td>\n",
       "      <td>...</td>\n",
       "    </tr>\n",
       "    <tr>\n",
       "      <th>67850</th>\n",
       "      <td>0</td>\n",
       "      <td>has all the depth of a wading pool .</td>\n",
       "    </tr>\n",
       "    <tr>\n",
       "      <th>67851</th>\n",
       "      <td>1</td>\n",
       "      <td>a movie with a real anarchic flair .</td>\n",
       "    </tr>\n",
       "    <tr>\n",
       "      <th>67852</th>\n",
       "      <td>0</td>\n",
       "      <td>a subject like this should inspire reaction in...</td>\n",
       "    </tr>\n",
       "    <tr>\n",
       "      <th>67853</th>\n",
       "      <td>0</td>\n",
       "      <td>... is an arthritic attempt at directing by ca...</td>\n",
       "    </tr>\n",
       "    <tr>\n",
       "      <th>67854</th>\n",
       "      <td>1</td>\n",
       "      <td>looking aristocratic , luminous yet careworn i...</td>\n",
       "    </tr>\n",
       "  </tbody>\n",
       "</table>\n",
       "<p>677437 rows × 2 columns</p>\n",
       "</div>"
      ],
      "text/plain": [
       "       label                                             review\n",
       "0          0  Unfortunately, the frustration of being Dr. Go...\n",
       "1          1  Been going to Dr. Goldberg for over 10 years. ...\n",
       "2          0  I don't know what Dr. Goldberg was like before...\n",
       "3          0  I'm writing this review to give you a heads up...\n",
       "4          1  All the food is great here. But the best thing...\n",
       "...      ...                                                ...\n",
       "67850      0              has all the depth of a wading pool . \n",
       "67851      1              a movie with a real anarchic flair . \n",
       "67852      0  a subject like this should inspire reaction in...\n",
       "67853      0  ... is an arthritic attempt at directing by ca...\n",
       "67854      1  looking aristocratic , luminous yet careworn i...\n",
       "\n",
       "[677437 rows x 2 columns]"
      ]
     },
     "execution_count": 5,
     "metadata": {},
     "output_type": "execute_result"
    }
   ],
   "source": [
    "df"
   ]
  },
  {
   "cell_type": "code",
   "execution_count": 8,
   "metadata": {},
   "outputs": [
    {
     "data": {
      "text/plain": [
       "6774"
      ]
     },
     "execution_count": 8,
     "metadata": {},
     "output_type": "execute_result"
    }
   ],
   "source": [
    "train_size = int(len(df) * 0.01)\n",
    "train_size"
   ]
  },
  {
   "cell_type": "code",
   "execution_count": 9,
   "metadata": {},
   "outputs": [],
   "source": [
    "df.iloc[:train_size, :].to_csv('new_ss_train.csv', header=False, index=False)\n",
    "df.iloc[train_size:, :].to_csv('new_train.csv', header=False, index=False)"
   ]
  }
 ],
 "metadata": {
  "kernelspec": {
   "display_name": "Python 3",
   "language": "python",
   "name": "python3"
  },
  "language_info": {
   "codemirror_mode": {
    "name": "ipython",
    "version": 3
   },
   "file_extension": ".py",
   "mimetype": "text/x-python",
   "name": "python",
   "nbconvert_exporter": "python",
   "pygments_lexer": "ipython3",
   "version": "3.10.6"
  },
  "orig_nbformat": 4
 },
 "nbformat": 4,
 "nbformat_minor": 2
}
